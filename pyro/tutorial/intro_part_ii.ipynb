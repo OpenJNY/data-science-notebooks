{
 "cells": [
  {
   "cell_type": "code",
   "execution_count": 1,
   "metadata": {},
   "outputs": [],
   "source": [
    "import matplotlib.pyplot as plt\n",
    "import numpy as np\n",
    "import torch\n",
    "\n",
    "import pyro\n",
    "import pyro.infer\n",
    "import pyro.optim\n",
    "import pyro.distributions as dist\n",
    "\n",
    "pyro.set_rng_seed(101)"
   ]
  },
  {
   "cell_type": "code",
   "execution_count": 2,
   "metadata": {},
   "outputs": [],
   "source": [
    "def scale(guess):\n",
    "    weight = pyro.sample(\"weight\", dist.Normal(guess, 1.0))\n",
    "    return pyro.sample(\"measurement\", dist.Normal(weight, 0.75))"
   ]
  },
  {
   "cell_type": "markdown",
   "metadata": {},
   "source": [
    "# 条件付け\n",
    "\n",
    "* 確率的プログラミングの真の力は、生成モデルを観測値で条件付け、そのデータを生成しうる潜在変数の推論するという能力にある\n",
    "* Pyro の API には、生成モデルの定義と条件付けを分離させることで、何回でもデータに対して条件付ける操作を行えるような工夫が施されている\n",
    "\n",
    "`scale` をもう一度考える\n",
    "\n",
    "* `guess = 8.5` に対する `weight` の分布は、`measurement == 9.5` が観測されていた場合どうなるだろうか？\n",
    "* つまり次の分布を推論したい\n",
    "\n",
    "$$\n",
    "P(weight|guess, measurement=9.5)\n",
    "$$\n",
    "\n",
    "* Pyro では `pyro.condition` を使ってデータの条件付けを行う\n",
    "* `pyro.condition` は高階関数\n",
    "    * モデルと観測値を入力する\n",
    "    * 出力はモデルと一緒の外見だが、データで条件付けられたモデル"
   ]
  },
  {
   "cell_type": "code",
   "execution_count": 3,
   "metadata": {},
   "outputs": [],
   "source": [
    "conditioned_scale = pyro.condition(scale, data={'measurement': 9.5})"
   ]
  },
  {
   "cell_type": "markdown",
   "metadata": {},
   "source": [
    "任意の Python の関数のように振る舞うので、`lambda` や `def` のように遅延させることも出来ます。"
   ]
  },
  {
   "cell_type": "code",
   "execution_count": 4,
   "metadata": {},
   "outputs": [],
   "source": [
    "def deffered_conditioned_scale(measurement, *args, **kwargs):\n",
    "    return pyro.condition(scale, data={'measurement': measurement})(*args, **kwargs)"
   ]
  },
  {
   "cell_type": "markdown",
   "metadata": {},
   "source": [
    "条件付けをモデル定義に盛り込むこともできる\n",
    "\n",
    "* `pyro.sample` のキーワード引数として `obs` を追加すれば良い\n",
    "* この操作は後で `pyro.condition` するのと等価"
   ]
  },
  {
   "cell_type": "code",
   "execution_count": 5,
   "metadata": {},
   "outputs": [],
   "source": [
    "def scale_obs(guess):\n",
    "    # conditioned_scale と等価\n",
    "    weight = pyro.sample(\"weight\", dist.Normal(guess, 1.))\n",
    "    return pyro.sample(\"measurement\", dist.Normal(weight, 1.), obs=9.5)"
   ]
  },
  {
   "cell_type": "markdown",
   "metadata": {},
   "source": [
    "観測値をモデルに組み込む違う方法として、`pyro.do` というものがある。\n",
    "- これは、Pearl の do-operator の実装であり、因果モデルの観測値に対応する。\n",
    "- `pyro.do` と `pyro.condition` は自由にミックスさせて使うことが出来る。"
   ]
  },
  {
   "cell_type": "markdown",
   "metadata": {},
   "source": [
    "## ガイド関数による柔軟な近似推論"
   ]
  },
  {
   "cell_type": "code",
   "execution_count": 6,
   "metadata": {},
   "outputs": [],
   "source": [
    "def perfect_quide(guess):\n",
    "    loc = (0.75**2 * guess + 9.5) / (1 + 0.75**2)\n",
    "    scale = np.sqrt(0.75**2/(1+0.75**2))\n",
    "    return pyro.sample(\"weight\", dist.Normal(loc, scale))"
   ]
  },
  {
   "cell_type": "markdown",
   "metadata": {},
   "source": [
    "## パラメトリックな確率的関数と変分推論\n",
    "\n",
    "- `scale` に対する完全な事後分布を書き出すことは出来ますが、一般に、条件付けられた任意の確率的関数の事後分布の良い近似をもたらすガイドを指定するのは不可能です。\n",
    "- 実際、我々が真の事後分布を正確に知ることができる確率的関数は寧ろ例外的な存在です。\n",
    "- 例えば、`scale` の例で考えると、中間の処理を非線形関数に置き換えたバージョンのものは、取扱いが出来ません。"
   ]
  },
  {
   "cell_type": "code",
   "execution_count": 7,
   "metadata": {},
   "outputs": [],
   "source": [
    "def intractable_scale(guess):\n",
    "    weight = pyro.sample(\"weight\", dist.Normal(guess, 1.0))\n",
    "    mean = some_nonlinear_func(weight)\n",
    "    return pyro.sample(\"measurement\", dist.Normal(mean, 0.75))"
   ]
  },
  {
   "cell_type": "markdown",
   "metadata": {},
   "source": [
    "- この場合、抽象度の高い関数 `pyro.param` を使って、特定の名前のパラメータによって索引付けられるガイドの*族*を指定することしか出来ません。\n",
    "- そして、ある損失関数の下で、最も近似性能がよいその属のモデルを探索します。\n",
    "- 事後分布を近似するこのアプローチは**変分推論**と呼ばれます。"
   ]
  },
  {
   "cell_type": "markdown",
   "metadata": {},
   "source": [
    "`pyro.param` は"
   ]
  },
  {
   "cell_type": "code",
   "execution_count": 9,
   "metadata": {},
   "outputs": [],
   "source": [
    "simple_param_store = {}\n",
    "a = simple_param_store.setdefault(\"a\", torch.randn(1))"
   ]
  },
  {
   "cell_type": "markdown",
   "metadata": {},
   "source": [
    "例えば、直接指定するのではなく、`scale_posterior_guide` の `a` と `b` をパラメタライズできます。"
   ]
  },
  {
   "cell_type": "code",
   "execution_count": 10,
   "metadata": {},
   "outputs": [],
   "source": [
    "def scale_parameterized_guide(guess):\n",
    "    a = pyro.param(\"a\", torch.tensor(guess))\n",
    "    b = pyro.param(\"b\", torch.tensor(1.))\n",
    "    return pyro.sample(\"weight\", dist.Normal(a, torch.abs(b)))"
   ]
  },
  {
   "cell_type": "markdown",
   "metadata": {},
   "source": [
    "余談ではありますが、`scale_parameterized_guide` の内容をよく見てみましょう。ガウス分布の標準偏差は正であることが要請される為、パラメータ `b` に `torch.abs` を適用しなくてはなりません。\n",
    "\n",
    "Pyro は PyTorch に基づいたライブラリですが、PyTorch の確率分布ライブラリには、上のような制約を満たす為のモジュール (constraints module) が含まれています。\n",
    "Pyro でのパラメータが制約モジュールを使って自動的に制約を満たすようにするには、`pyro.param` に関連する `constraint` オブジェクトを渡してください。"
   ]
  },
  {
   "cell_type": "code",
   "execution_count": 11,
   "metadata": {},
   "outputs": [],
   "source": [
    "from torch.distributions import constraints\n",
    "\n",
    "def scale_parameterized_guide_constrained(guess):\n",
    "    a = pyro.param(\"a\", torch.tensor(guess))\n",
    "    b = pyro.param(\"b\", torch.tensor(1.), constraint=constraints.positive)\n",
    "    return pyro.sample(\"weight\", dist.Normal(a, b))"
   ]
  },
  {
   "cell_type": "markdown",
   "metadata": {},
   "source": []
  },
  {
   "cell_type": "code",
   "execution_count": 12,
   "metadata": {},
   "outputs": [
    {
     "name": "stderr",
     "output_type": "stream",
     "text": [
      "/home/openjny/.local/lib/python3.6/site-packages/ipykernel_launcher.py:2: UserWarning: To copy construct from a tensor, it is recommended to use sourceTensor.clone().detach() or sourceTensor.clone().detach().requires_grad_(True), rather than torch.tensor(sourceTensor).\n",
      "  \n"
     ]
    }
   ],
   "source": [
    "guess = torch.tensor(8.5)\n",
    "\n",
    "pyro.clear_param_store()\n",
    "svi = pyro.infer.SVI(model=conditioned_scale,\n",
    "                    guide=scale_parameterized_guide,\n",
    "                    optim=pyro.optim.SGD({\n",
    "                        'lr': 0.001,\n",
    "                        \"momentum\": 0.1\n",
    "                    }),\n",
    "                    loss=pyro.infer.Trace_ELBO())\n",
    "\n",
    "losses, a, b = [], [], []\n",
    "n_steps = 2500\n",
    "\n",
    "for t in range(n_steps):\n",
    "    losses.append(svi.step(guess))\n",
    "    a.append(pyro.param(\"a\").item())\n",
    "    b.append(pyro.param(\"b\").item())\n"
   ]
  },
  {
   "cell_type": "code",
   "execution_count": 13,
   "metadata": {},
   "outputs": [
    {
     "name": "stdout",
     "output_type": "stream",
     "text": [
      "a =  9.110149383544922\n",
      "b =  0.6260182857513428\n"
     ]
    },
    {
     "data": {
      "image/png": "[encoded data removed]",
      "text/plain": [
       "<Figure size 432x288 with 1 Axes>"
      ]
     },
     "metadata": {
      "needs_background": "light"
     },
     "output_type": "display_data"
    }
   ],
   "source": [
    "plt.plot(losses)\n",
    "plt.title(\"ELBO\")\n",
    "plt.xlabel(\"step\")\n",
    "plt.ylabel(\"loss\")\n",
    "print('a = ', pyro.param(\"a\").item())\n",
    "print('b = ', pyro.param(\"b\").item())"
   ]
  },
  {
   "cell_type": "code",
   "execution_count": null,
   "metadata": {},
   "outputs": [],
   "source": []
  }
 ],
 "metadata": {
  "kernelspec": {
   "display_name": "ml_kernel",
   "language": "python",
   "name": "ml_kernel"
  },
  "language_info": {
   "codemirror_mode": {
    "name": "ipython",
    "version": 3
   },
   "file_extension": ".py",
   "mimetype": "text/x-python",
   "name": "python",
   "nbconvert_exporter": "python",
   "pygments_lexer": "ipython3",
   "version": "3.6.8"
  }
 },
 "nbformat": 4,
 "nbformat_minor": 2
}
