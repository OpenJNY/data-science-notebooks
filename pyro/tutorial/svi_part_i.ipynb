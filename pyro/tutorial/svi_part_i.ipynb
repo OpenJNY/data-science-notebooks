{
 "cells": [
  {
   "cell_type": "markdown",
   "metadata": {},
   "source": [
    "# SVI パート1: Pyro での変分推論入門\n",
    "\n",
    "Pyro は、汎用的な推論アルゴリズムとして **変分推論 (stochastic variational inference)** を利用することに特化して設計されています。Pyro でどのように変分推論を実行するのか見てみましょう。\n",
    "\n",
    "## セットアップ\n",
    "\n",
    "`pyro.sample` に `obs` 引数を指定すると「観測された確率変数」\n",
    "\n",
    "* 例 `pyro.sample(\"observable\", dist.Normal(weight, 0.75), obs=obs)`\n",
    "* `obs` を指定していなくても、後から `pyro.condition(model, data={'observable': obs})` すれば同じことが出来る。\n",
    "    \n",
    "ただの `pyro.sample` だと「潜在変数」\n",
    "\n",
    "`pryo.param` はパラメータ\n",
    "\n",
    "## モデルの学習\n",
    "\n",
    "* 対数周辺尤度 $\\log p(x; \\theta)$ を最大化するようなパラメータ $\\theta_{max}$ が知りたい。\n",
    "    * 潜在変数 $z$ は観測できないので、周辺化して無効化しておきたい気持ちがある\n",
    "* $\\theta_{max}$ を求めるだけでなく、その時の潜在変数 $z$ に関する事後分布も求めたい\n",
    "    * つまり $p(z|x;\\theta_{max})$ を求めたい\n",
    "* 変分推論で $\\theta_{max}$ とその時の $z$ の事後分布を近似計算できる\n",
    "\n",
    "## ガイド\n",
    "\n",
    "* 基本的な考え方は $p(z|x;\\theta_{max})$ を適当な分布 $q(z; \\phi)$ で近似すること\n",
    "    * $\\phi$ を変分パラメータ (variational parameter) という\n",
    "    * $q$ を変分分布 (variational distribution) という\n",
    "* Pyro では $q$ を**ガイド (guide)**という\n",
    "    * モデルと同様、ガイド `guide()` 関数も `pyro.sample` と `pyro.param` で構成されている\n",
    "    * ガイドは観測データを含んでいない。なぜなら、ガイドは分布だから（裏を返せばモデルは分布じゃなくていい）\n",
    "* モデルとガイドは同じ形である（同じ引数をとる）必要がある\n",
    "* ガイドは全ての潜在変数 $z$ に対する同時分布である\n",
    "    * Pyro では確率変数を定義するのに `pyro.sample` を使うが、この最初の引数に名前を指定する\n",
    "    * この確率変数の名前に関して、モデルとガイドの間で整合性を取る必要がある\n",
    "    * つまり、model で `z_1` という確率変数が `pyro.sample` で定義されていたら、guide でも `z_1` を `pyro.sample` で定義しなくてはならない\n",
    "    * もちろんこの時の分布は異なっていて良い\n",
    "* ガイドが定義できたらあとは推論するだけ\n",
    "    * パラメータ $\\theta - \\phi$ 空間で、一ステップごとに動かしていく\n",
    "    * どのように動かすか？\n",
    "        * $\\theta$ は $\\theta_{max}$ に近づける\n",
    "        * $\\phi$ は $q(z;\\phi)$ が $p(z|x;\\theta_{max})$ となるように\n",
    "    * ELBO と呼ばれる目的関数を最大化することでこれを実現\n",
    "   \n",
    "## ELBO\n",
    "\n",
    "* **変分下界 (evidence lower bound; ELBO)** は対数周辺エビデンス $\\log p(x)$ の下界\n",
    "    * $\\log p(x,z;\\theta) - \\log q(z; \\phi)$ の、変分分布 $q(z;\\phi)$ に関する期待値\n",
    "    * 変分分布は簡単に計算できることを仮定しているので、変分分布に関する期待値は $z_l \\sim q$ をたくさんサンプルすることで求めることができる（モンテカルロ推定）\n",
    "* $\\log p(x)$ の方が ELBO より常に大きいか等しいけど、その差分は、$KL (q(z;\\phi) || p(z|x;\\theta))$\n",
    "    * $\\theta$ が固定された下では、$\\phi$ をごにょごにょすることで KL ダイバージェンスを小さくすることができる\n",
    "    * 一般には、$\\theta$ と $\\phi$ は同時に最適化されるので、モデルとガイドが競争し合うような形になる\n",
    "    * 競争するっていうのは、$\\theta$ を動かすことで、($\\phi$ によって最適化する)変分分布のターゲットである $\\log p(z|x;\\theta)$ も変わっちゃうことを意味する\n",
    "    * 驚くべきことに、このおいかけっこ最適化は一般的に上手く行く（良い $\\theta$ と $\\phi$ の近似を与える）\n",
    "* ここまでをまとめると:\n",
    "    * やらなければならないのは、ガイドの定義と、ELBO に関するパラメータの勾配計算だけ\n",
    "    * ただ、実際には、だいたいのモデルとガイドでちょっと問題が発生する（この話題は SVI のパート3で扱う）\n",
    "\n",
    "## SVI クラス\n",
    "\n",
    "* 変分推論を行うためのエンジンは `SVI` クラスにまとめられている\n",
    "    * 今の所 ELBO に対する変分推論しか対応してないが、今後のアップデートで他の目的関数にも対応する予定\n",
    "* 利用者が用意しないといけないのは 3 つ\n",
    "    * モデル\n",
    "    * ガイド\n",
    "    * optimizer\n",
    "* `SVI` オブジェクトは二つの関数を提供する\n",
    "    * `SVI.step`: ひとつの勾配計算ステップを実行し、損失（負の ELBO）を返す\n",
    "    * `SVI.evaluate_loss`: `step` の勾配計算をしないバージョン\n",
    "* ELBO を指定したときには、ELBOの計算にモンテカルロサンプリングを使うので、そのサンプル数 `num_particles` を指定可能\n",
    "\n",
    "## オプティマイザ\n",
    "\n",
    "* `model` と `guide` は全く異なる振る舞いをすることが考えられる\n",
    "    * 例えば、時々しか現れない潜在変数やパラメータが存在する状況など\n",
    "* つまり、推論の途中で最適化するパラメータが増える\n",
    "    * 言い換えると $\\theta$ と $\\phi$ が存在するパラメータ空間が動的に変化する\n",
    "* これに対応するには、新たなパラメータが現れたときに、オプティマイザを動的に生成する必要がある\n",
    "    * Pyro では、動的生成に対応した `torch.optim` のラッパーライブラリを用意している\n",
    "* 動的に生成する際、オプティマイザに渡す引数を指定する方法は2つ\n",
    "    * 連想配列：すべてのパラメータを、同じ設定のオプティマイザで最適化したい時\n",
    "    * 連想配列を返す高階関数：パラメータ名ごとに、オプティマイザの設定を変える時"
   ]
  },
  {
   "cell_type": "code",
   "execution_count": 1,
   "metadata": {},
   "outputs": [],
   "source": [
    "import pyro\n",
    "import torch\n",
    "\n",
    "# clear the param store in case we're in a REPL\n",
    "pyro.clear_param_store()\n",
    "\n",
    "# create some data with 6 observed heads and 4 observed tails\n",
    "data = []\n",
    "for _ in range(6):\n",
    "    data.append(torch.tensor(1.0))\n",
    "for _ in range(4):\n",
    "    data.append(torch.tensor(0.0))"
   ]
  },
  {
   "cell_type": "markdown",
   "metadata": {},
   "source": [
    "## 簡単な例\n",
    "\n",
    "* 少し傷がついていて、等確率で裏と表がでるか怪しいコインがある\n",
    "    * 裏と表の出る比率が 11:10 でもあんまり不思議でもない\n",
    "    * 5:1 だったら流石に怪しい\n",
    "* この感覚を事前分布として確率モデルに組み込む\n",
    "    * 表が出る確率 $f$ を潜在変数として扱う\n",
    "    * $f$ の事前分布に $\\mathrm{Beta}(f|\\alpha_0,\\beta_0)$ を用いる\n",
    "    * $\\alpha_0, \\beta_0$ は超パラメータ（なのでモデルではただのテンソルとして指定）"
   ]
  },
  {
   "cell_type": "code",
   "execution_count": 2,
   "metadata": {},
   "outputs": [],
   "source": [
    "import pyro.distributions as dist\n",
    "\n",
    "def model(data):\n",
    "    alpha0 = torch.tensor(10.0)\n",
    "    beta0 = torch.tensor(10.0)\n",
    "    f = pyro.sample(\"latent_fairness\", dist.Beta(alpha0, beta0))\n",
    "    for i, obs in enumerate(data):\n",
    "        pyro.sample(f\"obs_{i}\", dist.Bernoulli(f), obs=obs)"
   ]
  },
  {
   "cell_type": "markdown",
   "metadata": {},
   "source": [
    "* 次にガイド $q(z;\\phi) \\simeq p(z|x;\\theta_{max})$ を定義する\n",
    "    * 今回の場合、潜在変数は $f$ だけなので、$z$ の同時分布は $p(f|x)$ と同義\n",
    "    * つまり、ガイドは $f$ に関する確率分布\n",
    "* $f$ は $[0,1]$ の実数なので、ベータ分布でモデリングするのが妥当\n",
    "    * ベータ分布の形を指定する $\\alpha_q, \\beta_q$ が変分パラメータ $\\phi$ に相当\n",
    "    * なのでこいつを Pyro で最適化する\n",
    "* 最適化の結果得られる $\\hat\\phi = (\\hat\\alpha_q, \\hat\\beta_q)$ で、”いい感じ”のモデル ($\\theta \\simeq \\theta_{max}$) に対する潜在変数の事後分布が求まる\n",
    "    * 今回は $\\theta$ がモデルにないので計算はらく"
   ]
  },
  {
   "cell_type": "code",
   "execution_count": 4,
   "metadata": {},
   "outputs": [],
   "source": [
    "from torch.distributions import constraints\n",
    "\n",
    "# 潜在変数の事後分布を定義する\n",
    "def guide(data):\n",
    "    # 変分パラメータ\n",
    "    alpha_q = pyro.param(\"alpha_q\", torch.tensor(15.0),\n",
    "                        constraint=constraints.positive)\n",
    "    beta_q = pyro.param(\"beta_q\", torch.tensor(15.0),\n",
    "                        constraint=constraints.positive)\n",
    "    # 分布の定義\n",
    "    pyro.sample(\"latent_fairness\", dist.Beta(alpha_q, beta_q))"
   ]
  },
  {
   "cell_type": "code",
   "execution_count": 5,
   "metadata": {},
   "outputs": [
    {
     "name": "stdout",
     "output_type": "stream",
     "text": [
      "[0000] loss: 6.99\n",
      "[0100] loss: 6.82\n",
      "[0200] loss: 6.77\n",
      "[0300] loss: 7.22\n",
      "[0400] loss: 7.41\n",
      "[0500] loss: 7.09\n",
      "[0600] loss: 7.01\n",
      "[0700] loss: 7.18\n",
      "[0800] loss: 7.04\n",
      "[0900] loss: 6.99\n",
      "[1000] loss: 7.09\n",
      "[1100] loss: 7.09\n",
      "[1200] loss: 7.05\n",
      "[1300] loss: 7.03\n",
      "[1400] loss: 7.04\n",
      "[1500] loss: 7.08\n",
      "[1600] loss: 7.08\n",
      "[1700] loss: 6.89\n",
      "[1800] loss: 7.02\n",
      "[1900] loss: 7.04\n",
      "\n",
      "based on the data and our prior belief, the fairness of the coin is 0.528 +- 0.090\n"
     ]
    }
   ],
   "source": [
    "import math\n",
    "import torch\n",
    "from pyro.optim import Adam\n",
    "from pyro.infer import SVI, Trace_ELBO\n",
    "\n",
    "# オプティマイザの設定\n",
    "# 任意のパラメータ (theta, phi) に対して同じ設定を与えて最適化\n",
    "adam_params = {\"lr\": 0.0005, \"betas\": (0.90, 0.999)}\n",
    "optimizer = Adam(adam_params)\n",
    "\n",
    "svi = SVI(model, guide, optimizer, loss=Trace_ELBO())\n",
    "\n",
    "n_steps = 2000\n",
    "losses = list()\n",
    "\n",
    "for step in range(n_steps):\n",
    "    elbo_loss = svi.step(data)\n",
    "    losses.append(elbo_loss)\n",
    "    if step % 100 == 0:\n",
    "        print(f'[{step:04d}] loss: {elbo_loss:.2f}')\n",
    "\n",
    "# grab the learned variational parameters\n",
    "alpha_q = pyro.param(\"alpha_q\").item()\n",
    "beta_q = pyro.param(\"beta_q\").item()\n",
    "\n",
    "# here we use some facts about the beta distribution\n",
    "# compute the inferred mean of the coin's fairness\n",
    "inferred_mean = alpha_q / (alpha_q + beta_q)\n",
    "# compute inferred standard deviation\n",
    "factor = beta_q / (alpha_q * (1.0 + alpha_q + beta_q))\n",
    "inferred_std = inferred_mean * math.sqrt(factor)\n",
    "\n",
    "print(\"\\nbased on the data and our prior belief, the fairness \" +\n",
    "      \"of the coin is %.3f +- %.3f\" % (inferred_mean, inferred_std))"
   ]
  },
  {
   "cell_type": "code",
   "execution_count": 8,
   "metadata": {},
   "outputs": [
    {
     "data": {
      "image/png": "[encoded data removed]",
      "text/plain": [
       "<Figure size 432x288 with 1 Axes>"
      ]
     },
     "metadata": {
      "needs_background": "light"
     },
     "output_type": "display_data"
    }
   ],
   "source": [
    "import matplotlib.pyplot as plt\n",
    "%matplotlib inline\n",
    "\n",
    "plt.plot(losses, label='ELBO loss')\n",
    "plt.xlabel('steps')\n",
    "plt.ylabel('ELBO loss')\n",
    "plt.show()"
   ]
  },
  {
   "cell_type": "code",
   "execution_count": null,
   "metadata": {},
   "outputs": [],
   "source": []
  }
 ],
 "metadata": {
  "kernelspec": {
   "display_name": "Python 3",
   "language": "python",
   "name": "python3"
  },
  "language_info": {
   "codemirror_mode": {
    "name": "ipython",
    "version": 3
   },
   "file_extension": ".py",
   "mimetype": "text/x-python",
   "name": "python",
   "nbconvert_exporter": "python",
   "pygments_lexer": "ipython3",
   "version": "3.6.7"
  }
 },
 "nbformat": 4,
 "nbformat_minor": 2
}
